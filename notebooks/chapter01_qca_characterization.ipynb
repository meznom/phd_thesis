{
 "metadata": {
  "name": ""
 },
 "nbformat": 3,
 "nbformat_minor": 0,
 "worksheets": [
  {
   "cells": [
    {
     "cell_type": "code",
     "collapsed": false,
     "input": [
      "%matplotlib inline\n",
      "import numpy as np\n",
      "import matplotlib.pyplot as plt\n",
      "import qca\n",
      "print('QCA version: ' + qca.__version__)"
     ],
     "language": "python",
     "metadata": {},
     "outputs": [
      {
       "output_type": "stream",
       "stream": "stdout",
       "text": [
        "QCA version: 8.2.0\n"
       ]
      }
     ],
     "prompt_number": 11
    },
    {
     "cell_type": "code",
     "collapsed": false,
     "input": [
      "def P(P_D):\n",
      "    s = qca.QcaFixedCharge()\n",
      "    s.q = 0.5\n",
      "    s.t = 1\n",
      "    s.V0 = 1E6\n",
      "    s.T = 1E-6\n",
      "    s.l = qca.Wire(1,100,2,P_D)\n",
      "    s.init()\n",
      "    s.run()\n",
      "    return s.results['P'][0]\n",
      "\n",
      "P_Ds = np.linspace(-1,1,100);\n",
      "Ps = np.array([P(P_D) for P_D in P_Ds])"
     ],
     "language": "python",
     "metadata": {},
     "outputs": [],
     "prompt_number": 42
    },
    {
     "cell_type": "code",
     "collapsed": false,
     "input": [
      "fig, p = plt.subplots(1,1,figsize=(4,4))\n",
      "p.plot(P_Ds, Ps)\n",
      "fig.savefig('../gfx/chapter01/cell_cell_response_plot.svg')"
     ],
     "language": "python",
     "metadata": {},
     "outputs": [
      {
       "metadata": {},
       "output_type": "display_data",
       "png": "[encoded data removed]",
       "text": [
        "<matplotlib.figure.Figure at 0x59fcb10>"
       ]
      }
     ],
     "prompt_number": 43
    },
    {
     "cell_type": "code",
     "collapsed": false,
     "input": [
      "Ps = [1,0.90,0.88,0.88,0.88,0.88,0.8]\n",
      "fig, p = plt.subplots(1,1,figsize=(4,2))\n",
      "p.plot(Ps)\n",
      "p.set_ylim((0.5,1))\n",
      "fig.savefig('../gfx/chapter01/icha_wire_pseudo_plot.svg')"
     ],
     "language": "python",
     "metadata": {},
     "outputs": [
      {
       "metadata": {},
       "output_type": "display_data",
       "png": "[encoded data removed]",
       "text": [
        "<matplotlib.figure.Figure at 0x580b8d0>"
       ]
      }
     ],
     "prompt_number": 44
    },
    {
     "cell_type": "code",
     "collapsed": false,
     "input": [],
     "language": "python",
     "metadata": {},
     "outputs": []
    }
   ],
   "metadata": {}
  }
 ]
}